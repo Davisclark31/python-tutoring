{
 "cells": [
  {
   "cell_type": "code",
   "execution_count": 4,
   "metadata": {},
   "outputs": [
    {
     "name": "stdout",
     "output_type": "stream",
     "text": [
      "enterjordan,1\n"
     ]
    },
    {
     "ename": "NoSuchElementException",
     "evalue": "Message: no such element: Unable to locate element: {\"method\":\"xpath\",\"selector\":\"//*[@id=\"checkout_shipping_address_country\"]/option[1]\"}\n  (Session info: chrome=83.0.4103.116)\n",
     "output_type": "error",
     "traceback": [
      "\u001b[0;31m---------------------------------------------------------------------------\u001b[0m",
      "\u001b[0;31mNoSuchElementException\u001b[0m                    Traceback (most recent call last)",
      "\u001b[0;32m<ipython-input-4-fcee5af57a7f>\u001b[0m in \u001b[0;36m<module>\u001b[0;34m\u001b[0m\n\u001b[1;32m     21\u001b[0m \u001b[0mtime\u001b[0m\u001b[0;34m.\u001b[0m\u001b[0msleep\u001b[0m\u001b[0;34m(\u001b[0m\u001b[0;36m2\u001b[0m\u001b[0;34m)\u001b[0m\u001b[0;34m\u001b[0m\u001b[0;34m\u001b[0m\u001b[0m\n\u001b[1;32m     22\u001b[0m \u001b[0mdriver\u001b[0m\u001b[0;34m.\u001b[0m\u001b[0mget\u001b[0m\u001b[0;34m(\u001b[0m\u001b[0;34m'https://kith.com/checkout'\u001b[0m\u001b[0;34m)\u001b[0m\u001b[0;34m\u001b[0m\u001b[0;34m\u001b[0m\u001b[0m\n\u001b[0;32m---> 23\u001b[0;31m \u001b[0mdriver\u001b[0m\u001b[0;34m.\u001b[0m\u001b[0mfind_element_by_xpath\u001b[0m\u001b[0;34m(\u001b[0m\u001b[0;34m'//*[@id=\"checkout_shipping_address_country\"]/option[1]'\u001b[0m\u001b[0;34m)\u001b[0m\u001b[0;34m.\u001b[0m\u001b[0mclick\u001b[0m\u001b[0;34m(\u001b[0m\u001b[0;34m)\u001b[0m\u001b[0;34m\u001b[0m\u001b[0;34m\u001b[0m\u001b[0m\n\u001b[0m\u001b[1;32m     24\u001b[0m \u001b[0mdriver\u001b[0m\u001b[0;34m.\u001b[0m\u001b[0mfind_element_by_xpath\u001b[0m\u001b[0;34m(\u001b[0m\u001b[0;34m'//*[@id=\"checkout_email\"]'\u001b[0m\u001b[0;34m)\u001b[0m\u001b[0;34m.\u001b[0m\u001b[0mclick\u001b[0m\u001b[0;34m(\u001b[0m\u001b[0;34m)\u001b[0m\u001b[0;34m\u001b[0m\u001b[0;34m\u001b[0m\u001b[0m\n\u001b[1;32m     25\u001b[0m \u001b[0mdriver\u001b[0m\u001b[0;34m.\u001b[0m\u001b[0mfind_element_by_xpath\u001b[0m\u001b[0;34m(\u001b[0m\u001b[0;34m'//*[@id=\"checkout_email\"]'\u001b[0m\u001b[0;34m)\u001b[0m\u001b[0;34m.\u001b[0m\u001b[0msend_keys\u001b[0m\u001b[0;34m(\u001b[0m\u001b[0;34m\"davisc3126@gmail.com\"\u001b[0m\u001b[0;34m)\u001b[0m\u001b[0;34m\u001b[0m\u001b[0;34m\u001b[0m\u001b[0m\n",
      "\u001b[0;32m~/Desktop/PythonT/intro/lib/python3.7/site-packages/selenium/webdriver/remote/webdriver.py\u001b[0m in \u001b[0;36mfind_element_by_xpath\u001b[0;34m(self, xpath)\u001b[0m\n\u001b[1;32m    392\u001b[0m             \u001b[0melement\u001b[0m \u001b[0;34m=\u001b[0m \u001b[0mdriver\u001b[0m\u001b[0;34m.\u001b[0m\u001b[0mfind_element_by_xpath\u001b[0m\u001b[0;34m(\u001b[0m\u001b[0;34m'//div/td[1]'\u001b[0m\u001b[0;34m)\u001b[0m\u001b[0;34m\u001b[0m\u001b[0;34m\u001b[0m\u001b[0m\n\u001b[1;32m    393\u001b[0m         \"\"\"\n\u001b[0;32m--> 394\u001b[0;31m         \u001b[0;32mreturn\u001b[0m \u001b[0mself\u001b[0m\u001b[0;34m.\u001b[0m\u001b[0mfind_element\u001b[0m\u001b[0;34m(\u001b[0m\u001b[0mby\u001b[0m\u001b[0;34m=\u001b[0m\u001b[0mBy\u001b[0m\u001b[0;34m.\u001b[0m\u001b[0mXPATH\u001b[0m\u001b[0;34m,\u001b[0m \u001b[0mvalue\u001b[0m\u001b[0;34m=\u001b[0m\u001b[0mxpath\u001b[0m\u001b[0;34m)\u001b[0m\u001b[0;34m\u001b[0m\u001b[0;34m\u001b[0m\u001b[0m\n\u001b[0m\u001b[1;32m    395\u001b[0m \u001b[0;34m\u001b[0m\u001b[0m\n\u001b[1;32m    396\u001b[0m     \u001b[0;32mdef\u001b[0m \u001b[0mfind_elements_by_xpath\u001b[0m\u001b[0;34m(\u001b[0m\u001b[0mself\u001b[0m\u001b[0;34m,\u001b[0m \u001b[0mxpath\u001b[0m\u001b[0;34m)\u001b[0m\u001b[0;34m:\u001b[0m\u001b[0;34m\u001b[0m\u001b[0;34m\u001b[0m\u001b[0m\n",
      "\u001b[0;32m~/Desktop/PythonT/intro/lib/python3.7/site-packages/selenium/webdriver/remote/webdriver.py\u001b[0m in \u001b[0;36mfind_element\u001b[0;34m(self, by, value)\u001b[0m\n\u001b[1;32m    976\u001b[0m         return self.execute(Command.FIND_ELEMENT, {\n\u001b[1;32m    977\u001b[0m             \u001b[0;34m'using'\u001b[0m\u001b[0;34m:\u001b[0m \u001b[0mby\u001b[0m\u001b[0;34m,\u001b[0m\u001b[0;34m\u001b[0m\u001b[0;34m\u001b[0m\u001b[0m\n\u001b[0;32m--> 978\u001b[0;31m             'value': value})['value']\n\u001b[0m\u001b[1;32m    979\u001b[0m \u001b[0;34m\u001b[0m\u001b[0m\n\u001b[1;32m    980\u001b[0m     \u001b[0;32mdef\u001b[0m \u001b[0mfind_elements\u001b[0m\u001b[0;34m(\u001b[0m\u001b[0mself\u001b[0m\u001b[0;34m,\u001b[0m \u001b[0mby\u001b[0m\u001b[0;34m=\u001b[0m\u001b[0mBy\u001b[0m\u001b[0;34m.\u001b[0m\u001b[0mID\u001b[0m\u001b[0;34m,\u001b[0m \u001b[0mvalue\u001b[0m\u001b[0;34m=\u001b[0m\u001b[0;32mNone\u001b[0m\u001b[0;34m)\u001b[0m\u001b[0;34m:\u001b[0m\u001b[0;34m\u001b[0m\u001b[0;34m\u001b[0m\u001b[0m\n",
      "\u001b[0;32m~/Desktop/PythonT/intro/lib/python3.7/site-packages/selenium/webdriver/remote/webdriver.py\u001b[0m in \u001b[0;36mexecute\u001b[0;34m(self, driver_command, params)\u001b[0m\n\u001b[1;32m    319\u001b[0m         \u001b[0mresponse\u001b[0m \u001b[0;34m=\u001b[0m \u001b[0mself\u001b[0m\u001b[0;34m.\u001b[0m\u001b[0mcommand_executor\u001b[0m\u001b[0;34m.\u001b[0m\u001b[0mexecute\u001b[0m\u001b[0;34m(\u001b[0m\u001b[0mdriver_command\u001b[0m\u001b[0;34m,\u001b[0m \u001b[0mparams\u001b[0m\u001b[0;34m)\u001b[0m\u001b[0;34m\u001b[0m\u001b[0;34m\u001b[0m\u001b[0m\n\u001b[1;32m    320\u001b[0m         \u001b[0;32mif\u001b[0m \u001b[0mresponse\u001b[0m\u001b[0;34m:\u001b[0m\u001b[0;34m\u001b[0m\u001b[0;34m\u001b[0m\u001b[0m\n\u001b[0;32m--> 321\u001b[0;31m             \u001b[0mself\u001b[0m\u001b[0;34m.\u001b[0m\u001b[0merror_handler\u001b[0m\u001b[0;34m.\u001b[0m\u001b[0mcheck_response\u001b[0m\u001b[0;34m(\u001b[0m\u001b[0mresponse\u001b[0m\u001b[0;34m)\u001b[0m\u001b[0;34m\u001b[0m\u001b[0;34m\u001b[0m\u001b[0m\n\u001b[0m\u001b[1;32m    322\u001b[0m             response['value'] = self._unwrap_value(\n\u001b[1;32m    323\u001b[0m                 response.get('value', None))\n",
      "\u001b[0;32m~/Desktop/PythonT/intro/lib/python3.7/site-packages/selenium/webdriver/remote/errorhandler.py\u001b[0m in \u001b[0;36mcheck_response\u001b[0;34m(self, response)\u001b[0m\n\u001b[1;32m    240\u001b[0m                 \u001b[0malert_text\u001b[0m \u001b[0;34m=\u001b[0m \u001b[0mvalue\u001b[0m\u001b[0;34m[\u001b[0m\u001b[0;34m'alert'\u001b[0m\u001b[0;34m]\u001b[0m\u001b[0;34m.\u001b[0m\u001b[0mget\u001b[0m\u001b[0;34m(\u001b[0m\u001b[0;34m'text'\u001b[0m\u001b[0;34m)\u001b[0m\u001b[0;34m\u001b[0m\u001b[0;34m\u001b[0m\u001b[0m\n\u001b[1;32m    241\u001b[0m             \u001b[0;32mraise\u001b[0m \u001b[0mexception_class\u001b[0m\u001b[0;34m(\u001b[0m\u001b[0mmessage\u001b[0m\u001b[0;34m,\u001b[0m \u001b[0mscreen\u001b[0m\u001b[0;34m,\u001b[0m \u001b[0mstacktrace\u001b[0m\u001b[0;34m,\u001b[0m \u001b[0malert_text\u001b[0m\u001b[0;34m)\u001b[0m\u001b[0;34m\u001b[0m\u001b[0;34m\u001b[0m\u001b[0m\n\u001b[0;32m--> 242\u001b[0;31m         \u001b[0;32mraise\u001b[0m \u001b[0mexception_class\u001b[0m\u001b[0;34m(\u001b[0m\u001b[0mmessage\u001b[0m\u001b[0;34m,\u001b[0m \u001b[0mscreen\u001b[0m\u001b[0;34m,\u001b[0m \u001b[0mstacktrace\u001b[0m\u001b[0;34m)\u001b[0m\u001b[0;34m\u001b[0m\u001b[0;34m\u001b[0m\u001b[0m\n\u001b[0m\u001b[1;32m    243\u001b[0m \u001b[0;34m\u001b[0m\u001b[0m\n\u001b[1;32m    244\u001b[0m     \u001b[0;32mdef\u001b[0m \u001b[0m_value_or_default\u001b[0m\u001b[0;34m(\u001b[0m\u001b[0mself\u001b[0m\u001b[0;34m,\u001b[0m \u001b[0mobj\u001b[0m\u001b[0;34m,\u001b[0m \u001b[0mkey\u001b[0m\u001b[0;34m,\u001b[0m \u001b[0mdefault\u001b[0m\u001b[0;34m)\u001b[0m\u001b[0;34m:\u001b[0m\u001b[0;34m\u001b[0m\u001b[0;34m\u001b[0m\u001b[0m\n",
      "\u001b[0;31mNoSuchElementException\u001b[0m: Message: no such element: Unable to locate element: {\"method\":\"xpath\",\"selector\":\"//*[@id=\"checkout_shipping_address_country\"]/option[1]\"}\n  (Session info: chrome=83.0.4103.116)\n"
     ]
    }
   ],
   "source": [
    "import json\n",
    "import time\n",
    "\n",
    "from selenium import webdriver\n",
    "from selenium.webdriver.support.select import Select\n",
    "from selenium.webdriver.common.keys import Keys\n",
    "\n",
    "path = \"/Users/CreeperFire/Desktop/PythonT/chromedriver\"\n",
    "\n",
    "#inputting keywords with a comma between eg: jordan,1\n",
    "keyword = str(input(\"enter\"))\n",
    "\n",
    "driver = webdriver.Chrome(path)\n",
    "driver.get('https://kith.com/collections/kith-summer-2020/products/kh1257-109')\n",
    "driver.implicitly_wait(15)\n",
    "driver.find_element_by_xpath('//*[@id=\"globale_popup\"]/div/div/div/div/div[5]/a').click()\n",
    "driver.find_element_by_xpath('//*[@id=\"gle_selectedCountry\"]').send_keys(\"United States\")\n",
    "driver.find_element_by_xpath('//*[@id=\"globale_csc_popup\"]/div/div/div/div/div[4]/input[1]').click()\n",
    "time.sleep(2)\n",
    "driver.find_element_by_xpath('//*[@id=\"shopify-section-product\"]/section[1]/div[4]/form/button').click()\n",
    "time.sleep(2)\n",
    "driver.get('https://kith.com/checkout')\n",
    "driver.find_element_by_xpath('//*[@id=\"checkout_shipping_address_country\"]/option[1]').click()\n",
    "driver.find_element_by_xpath('//*[@id=\"checkout_email\"]').click()\n",
    "driver.find_element_by_xpath('//*[@id=\"checkout_email\"]').send_keys(\"davisc3126@gmail.com\")\n",
    "driver.find_element_by_xpath('//*[@id=\"checkout_buyer_accepts_marketing\"]').click()\n",
    "driver.find_element_by_xpath('//*[@id=\"checkout_shipping_address_first_name\"]').click()\n",
    "driver.find_element_by_xpath('//*[@id=\"checkout_shipping_address_first_name\"]').send_keys(\"yes\")\n",
    "driver.find_element_by_xpath('//*[@id=\"checkout_shipping_address_last_name\"]').click()\n",
    "driver.find_element_by_xpath('//*[@id=\"checkout_shipping_address_last_name\"]').send_keys(\"yes\")\n",
    "driver.find_element_by_xpath('//*[@id=\"checkout_shipping_address_address1\"]').click()\n",
    "driver.find_element_by_xpath('//*[@id=\"checkout_shipping_address_address1\"]').send_keys(\"1770 Front Street\")\n",
    "driver.find_element_by_xpath('//*[@id=\"checkout_shipping_address_address2\"]').click()\n",
    "driver.find_element_by_xpath('//*[@id=\"checkout_shipping_address_address2\"]').send_keys(\"#652\")\n",
    "driver.find_element_by_xpath('//*[@id=\"checkout_shipping_address_city\"]').click()\n",
    "driver.find_element_by_xpath('//*[@id=\"checkout_shipping_address_city\"]').send_keys(\"Lynden\")\n",
    "driver.find_element_by_xpath('//*[@id=\"checkout_shipping_address_province\"]/option[57]').click()\n",
    "driver.find_element_by_xpath('//*[@id=\"checkout_shipping_address_zip\"]').click()\n",
    "driver.find_element_by_xpath('//*[@id=\"checkout_shipping_address_zip\"]').send_keys(\"98264\")\n",
    "driver.find_element_by_xpath('//*[@id=\"checkout_shipping_address_phone\"]').click()\n",
    "driver.find_element_by_xpath('//*[@id=\"checkout_shipping_address_phone\"]').send_keys(\"7789992299\")\n",
    "driver.find_element_by_xpath('//*[@id=\"continue_button\"]').click()\n",
    "driver.implicitly_wait(10)\n",
    "driver.find_element_by_xpath('//*[@id=\"continue_button\"]').click()\n",
    "url = driver.current_url\n",
    "driver.get(\"https://www.kith.com/cart/change?line=1&quantity=0\")\n",
    "keywordurl = \"https://kith.com/pages/search-results-page?q=\"\n",
    "keywords = keyword.split(',')\n",
    "g = 0\n",
    "for i in keywords:\n",
    "    if g >= 1:\n",
    "        keywordurl += \"+\"\n",
    "    keywordurl += i\n",
    "    g += 1\n",
    "driver.get(keywordurl)\n",
    "\"\"\"\n",
    "get_product = driver.find_elements_by_class_name('snize-product')\n",
    "while True:\n",
    "    if len(get_product) >= 1:\n",
    "        driver.find_element_by_xpath('/html/body/div[3]/main/div/div/div/div[1]/div[3]/div/ul/li[1]/a').click()\n",
    "        break\n",
    "    else:\n",
    "        time.sleep(0.5)\n",
    "        driver.refresh()\n",
    "\"\"\""
   ]
  },
  {
   "cell_type": "code",
   "execution_count": 5,
   "metadata": {},
   "outputs": [],
   "source": [
    "driver.find_element_by_xpath('//*[@id=\"checkout_shipping_address_country\"]/option[1]').click()\n",
    "driver.find_element_by_xpath('//*[@id=\"checkout_email\"]').click()\n",
    "driver.find_element_by_xpath('//*[@id=\"checkout_email\"]').send_keys(\"davisc3126@gmail.com\")\n",
    "driver.find_element_by_xpath('//*[@id=\"checkout_buyer_accepts_marketing\"]').click()\n",
    "driver.find_element_by_xpath('//*[@id=\"checkout_shipping_address_first_name\"]').click()\n",
    "driver.find_element_by_xpath('//*[@id=\"checkout_shipping_address_first_name\"]').send_keys(\"yes\")\n",
    "driver.find_element_by_xpath('//*[@id=\"checkout_shipping_address_last_name\"]').click()\n",
    "driver.find_element_by_xpath('//*[@id=\"checkout_shipping_address_last_name\"]').send_keys(\"yes\")\n",
    "driver.find_element_by_xpath('//*[@id=\"checkout_shipping_address_address1\"]').click()\n",
    "driver.find_element_by_xpath('//*[@id=\"checkout_shipping_address_address1\"]').send_keys(\"1770 Front Street\")\n",
    "driver.find_element_by_xpath('//*[@id=\"checkout_shipping_address_address2\"]').click()\n",
    "driver.find_element_by_xpath('//*[@id=\"checkout_shipping_address_address2\"]').send_keys(\"#652\")\n",
    "driver.find_element_by_xpath('//*[@id=\"checkout_shipping_address_city\"]').click()\n",
    "driver.find_element_by_xpath('//*[@id=\"checkout_shipping_address_city\"]').send_keys(\"Lynden\")\n",
    "driver.find_element_by_xpath('//*[@id=\"checkout_shipping_address_province\"]/option[57]').click()\n",
    "driver.find_element_by_xpath('//*[@id=\"checkout_shipping_address_zip\"]').click()\n",
    "driver.find_element_by_xpath('//*[@id=\"checkout_shipping_address_zip\"]').send_keys(\"98264\")\n",
    "driver.find_element_by_xpath('//*[@id=\"checkout_shipping_address_phone\"]').click()\n",
    "driver.find_element_by_xpath('//*[@id=\"checkout_shipping_address_phone\"]').send_keys(\"7789992299\")\n",
    "driver.find_element_by_xpath('//*[@id=\"continue_button\"]').click()\n",
    "driver.implicitly_wait(10)\n",
    "driver.find_element_by_xpath('//*[@id=\"continue_button\"]').click()\n",
    "url = driver.current_url\n",
    "driver.get(\"https://www.kith.com/cart/change?line=1&quantity=0\")\n",
    "keywordurl = \"https://kith.com/pages/search-results-page?q=\"\n",
    "keywords = keyword.split(',')\n",
    "g = 0\n",
    "for i in keywords:\n",
    "    if g >= 1:\n",
    "        keywordurl += \"+\"\n",
    "    keywordurl += i\n",
    "    g += 1\n",
    "driver.get(keywordurl)"
   ]
  },
  {
   "cell_type": "code",
   "execution_count": 43,
   "metadata": {},
   "outputs": [],
   "source": [
    "\"\"\"\n",
    "get_product = driver.find_elements_by_class_name('snize-product')\n",
    "while True:\n",
    "    if len(get_product) >= 1:\n",
    "        driver.find_element_by_xpath('/html/body/div[3]/main/div/div/div/div[1]/div[3]/div/ul/li[1]/a').click()\n",
    "        break\n",
    "    else:\n",
    "        time.sleep(0.5)\n",
    "        driver.refresh()\n",
    "\"\"\"\n",
    "pds = {}\n",
    "products_list = driver.find_element_by_xpath('/html/body/div[3]/main/div/div/div/div[1]/div[3]/div/ul')\n",
    "products_list = products_list.find_elements_by_tag_name('li')\n",
    "for list_items in products_list:\n",
    "    link = list_items.find_element_by_tag_name('a').get_attribute('href')\n",
    "    text = list_items.find_element_by_class_name('snize-title').text\n",
    "    pds[text]=link"
   ]
  },
  {
   "cell_type": "code",
   "execution_count": 44,
   "metadata": {},
   "outputs": [
    {
     "data": {
      "text/plain": [
       "{'NIKE PRE-SCHOOL AIR JORDAN 1 MID SE - WHITE / UNIVERSITY RED / RUSH BLUE / BLACK': 'https://kith.com/products/jbbq6932-146',\n",
       " 'NIKE PRE-SCHOOL AIR JORDAN 1 LOW - WHITE': 'https://kith.com/products/jbbq6066-130',\n",
       " 'NIKE PS AIR JORDAN 1 LOW - GYM RED / WHITE': 'https://kith.com/products/jbbq6066-611',\n",
       " 'NIKE PRE-SCHOOL AIR JORDAN 1 MID - BLACK / HYPER ROYAL / WHITE': 'https://kith.com/products/jb640734-068',\n",
       " 'NIKE AIR JORDAN 1 RETRO HIGH OG - METALLIC SILVER / GYM RED / WHITE / BLACK': 'https://kith.com/products/nike-air-jodan-1-retro-high-og-metallic-silver-gym-red-white-black',\n",
       " 'NIKE WMNS AIR JORDAN 1 MID - WHITE / BLACK': 'https://kith.com/products/jbbq6472-110',\n",
       " 'NIKE WMNS AIR JORDAN 1 MID - BLACK': 'https://kith.com/products/jbbq6472-010',\n",
       " 'NIKE WMNS AIR JORDAN 1 LOW - TRIPLE WHITE': 'https://kith.com/products/nike-wmns-air-jordan-1-low-triple-white',\n",
       " 'NIKE TODDLER AIR JORDAN 1 LOW - WHITE': 'https://kith.com/products/jbci3436-130',\n",
       " 'NIKE AIR JORDAN 1 LOW REACT FEARLESS - BLACK / VARSITY RED / LUCKY GREEN': 'https://kith.com/products/jbct6416-001',\n",
       " 'NIKE TODDLER AIR JORDAN 1 MID - BLACK / NOBLE RED / WHITE': 'https://kith.com/products/jb640735-066',\n",
       " 'NIKE AIR JORDAN 1 CRIB BOOTIE - BLACK / VARSITY RED / WHITE': 'https://kith.com/products/jbat3745-023',\n",
       " 'NIKE AIR JORDAN 1 CRIB BOOTIE - SAIL / BLACK / STARFISH': 'https://kith.com/products/jbat3745-108',\n",
       " 'NIKE AIR JORDAN 1 CRIB BOOTIE - WHITE / RACER PINK': 'https://kith.com/products/jbat3745-116',\n",
       " 'NIKE AIR JORDAN 1 CRIB BOOTIE - BLACK / VARSITY ROYAL / WHITE': 'https://kith.com/products/jbat3745-007',\n",
       " 'NIKE GRADE SCHOOL AIR JORDAN 1 RETRO HIGH OG - METALLIC SILVER / GYM RED / WHITE / BLACK': 'https://kith.com/products/nike-gs-air-jordan-1-retro-high-og-metallic-silver-gym-red-white-black',\n",
       " 'NIKE GRADE SCHOOL AIR JORDAN 1 MID SE - BLACK / RED': 'https://kith.com/products/jbcu6617-062',\n",
       " 'NIKE GRADE SCHOOL AIR JORDAN 3 RETRO SE - VARSITY RED / CEMENT GREY / BLACK': 'https://kith.com/products/nike-grade-school-air-jordan-3-retro-se-varsity-red-cement-grey-black',\n",
       " 'NIKE PRE-SCHOOL AIR JORDAN 6 RETRO - NEUTRAL GREY / BLACK / WHITE / TRUE RED': 'https://kith.com/products/jb384666-062',\n",
       " 'NIKE PRE-SCHOOL AIR JORDAN 11 RETRO LOW - WHITE / UNIVERSITY RED / BLACK': 'https://kith.com/products/jb505835-160',\n",
       " 'NIKE PRE-SCHOOL AIR JORDAN 3 RETRO SE - VARSITY RED / CEMENT GREY / BLACK': 'https://kith.com/products/nike-pre-school-air-jordan-3-retro-se-varsity-red-cement-grey-black',\n",
       " 'NIKE PRE-SCHOOL AIR JORDAN 4 RETRO LE - COOL GREY / VOLT / WOLF GREY / ANTHRACITE': 'https://kith.com/products/jbct5344-007',\n",
       " 'NIKE AIR JORDAN PRE-SCHOOL 1 MID - BLACK / NOBLE RED / WHITE': 'https://kith.com/products/jb640734-066',\n",
       " 'NIKE PRE-SCHOOL AIR JORDAN 11 RETRO LOW - WHITE / BLACK / INFRARED': 'https://kith.com/products/jb580522-100',\n",
       " 'NIKE AIR JORDAN 4 RETRO LE - COOL GREY / VOLT / WOLF GREY / ANTHRACITE': 'https://kith.com/products/jbct5342-007',\n",
       " 'NIKE WMNS AIR JORDAN 7 RETRO - BLACK / BRIGHT CRIMSON / ANTHRACITE': 'https://kith.com/products/nike-wmns-air-jordan-7-retro-black-bright-crimson-anthracite',\n",
       " 'NIKE AIR JORDAN 7 RETRO SE - NEUTRAL GRAY / SUMMIT WHITE': 'https://kith.com/products/nike-air-jordan-7-retro-se-neutral-gray-summit-white',\n",
       " 'NIKE AIR JORDAN 2 RETRO BHM - BLACK / METALLIC GOLD': 'https://kith.com/products/nike-air-jordan-2-retro-bhm-black-metallic-gold',\n",
       " 'NIKE WMNS AIR JORDAN 5 RETRO - OIL GREY': 'https://kith.com/products/nike-wmns-air-jordan-5-retro-oil-grey',\n",
       " 'NIKE AIR JORDAN 13 CNY - PALE IVORY / BLACK / PINK': 'https://kith.com/products/nike-air-jordan-13-cny-pale-ivory-black-pink',\n",
       " 'NIKE WMNS AIR JORDAN 4 RETRO - WHITE / BLACK / UNIVERSITY RED': 'https://kith.com/products/nike-wmns-air-jordan-4-retro-white-black-university-red',\n",
       " 'NIKE WMNS AIR JORDAN OG - WHITE / BLACK': 'https://kith.com/products/nike-wmns-air-jordan-og-white-black',\n",
       " 'NIKE TODDLER AIR JORDAN 4 RETRO LE - COOL GREY / VOLT / WOLF GREY / ANTHRACITE': 'https://kith.com/products/jbct5345-007',\n",
       " 'KITH JORDAN CRYSTAL WASH BABY TERRY SHORTS - OBSIDIAN NAVY': 'https://kith.com/products/kh6356-102',\n",
       " 'KITH JORDAN CRYSTAL WASH BABY TERRY SHORTS - WHITE PEPPER': 'https://kith.com/products/kh6356-104',\n",
       " 'KITH JORDAN CRYSTAL WASH BABY TERRY SHORTS - ANTLER': 'https://kith.com/products/kh6356-108',\n",
       " 'RIZZOLI 1000 SNEAKERS': 'https://kith.com/products/rz978-0-7893-3255-4'}"
      ]
     },
     "execution_count": 44,
     "metadata": {},
     "output_type": "execute_result"
    }
   ],
   "source": [
    "pds"
   ]
  },
  {
   "cell_type": "code",
   "execution_count": 14,
   "metadata": {},
   "outputs": [
    {
     "data": {
      "text/plain": [
       "[]"
      ]
     },
     "execution_count": 14,
     "metadata": {},
     "output_type": "execute_result"
    }
   ],
   "source": [
    "links"
   ]
  },
  {
   "cell_type": "code",
   "execution_count": 24,
   "metadata": {},
   "outputs": [
    {
     "data": {
      "text/plain": [
       "['__class__',\n",
       " '__delattr__',\n",
       " '__dict__',\n",
       " '__dir__',\n",
       " '__doc__',\n",
       " '__eq__',\n",
       " '__format__',\n",
       " '__ge__',\n",
       " '__getattribute__',\n",
       " '__gt__',\n",
       " '__hash__',\n",
       " '__init__',\n",
       " '__init_subclass__',\n",
       " '__le__',\n",
       " '__lt__',\n",
       " '__module__',\n",
       " '__ne__',\n",
       " '__new__',\n",
       " '__reduce__',\n",
       " '__reduce_ex__',\n",
       " '__repr__',\n",
       " '__setattr__',\n",
       " '__sizeof__',\n",
       " '__str__',\n",
       " '__subclasshook__',\n",
       " '__weakref__',\n",
       " '_execute',\n",
       " '_id',\n",
       " '_parent',\n",
       " '_upload',\n",
       " '_w3c',\n",
       " 'clear',\n",
       " 'click',\n",
       " 'find_element',\n",
       " 'find_element_by_class_name',\n",
       " 'find_element_by_css_selector',\n",
       " 'find_element_by_id',\n",
       " 'find_element_by_link_text',\n",
       " 'find_element_by_name',\n",
       " 'find_element_by_partial_link_text',\n",
       " 'find_element_by_tag_name',\n",
       " 'find_element_by_xpath',\n",
       " 'find_elements',\n",
       " 'find_elements_by_class_name',\n",
       " 'find_elements_by_css_selector',\n",
       " 'find_elements_by_id',\n",
       " 'find_elements_by_link_text',\n",
       " 'find_elements_by_name',\n",
       " 'find_elements_by_partial_link_text',\n",
       " 'find_elements_by_tag_name',\n",
       " 'find_elements_by_xpath',\n",
       " 'get_attribute',\n",
       " 'get_property',\n",
       " 'id',\n",
       " 'is_displayed',\n",
       " 'is_enabled',\n",
       " 'is_selected',\n",
       " 'location',\n",
       " 'location_once_scrolled_into_view',\n",
       " 'parent',\n",
       " 'rect',\n",
       " 'screenshot',\n",
       " 'screenshot_as_base64',\n",
       " 'screenshot_as_png',\n",
       " 'send_keys',\n",
       " 'size',\n",
       " 'submit',\n",
       " 'tag_name',\n",
       " 'text',\n",
       " 'value_of_css_property']"
      ]
     },
     "execution_count": 24,
     "metadata": {},
     "output_type": "execute_result"
    }
   ],
   "source": [
    "dir(p)"
   ]
  },
  {
   "cell_type": "code",
   "execution_count": null,
   "metadata": {},
   "outputs": [],
   "source": []
  }
 ],
 "metadata": {
  "kernelspec": {
   "display_name": "Python 3",
   "language": "python",
   "name": "python3"
  },
  "language_info": {
   "codemirror_mode": {
    "name": "ipython",
    "version": 3
   },
   "file_extension": ".py",
   "mimetype": "text/x-python",
   "name": "python",
   "nbconvert_exporter": "python",
   "pygments_lexer": "ipython3",
   "version": "3.7.4"
  }
 },
 "nbformat": 4,
 "nbformat_minor": 4
}
