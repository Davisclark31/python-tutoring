{
 "cells": [
  {
   "cell_type": "code",
   "execution_count": null,
   "metadata": {},
   "outputs": [
    {
     "name": "stderr",
     "output_type": "stream",
     "text": [
      "/Users/CreeperFire/Desktop/PythonT/intro/lib/python3.7/site-packages/ipykernel_launcher.py:14: DeprecationWarning: use options instead of chrome_options\n",
      "  \n"
     ]
    }
   ],
   "source": [
    "from selenium import webdriver\n",
    "from selenium.webdriver.support.select import Select\n",
    "import time\n",
    "from selenium.webdriver.common.keys import Keys\n",
    "\n",
    "start_time = time.time()\n",
    "\n",
    "chrome_options = webdriver.ChromeOptions()\n",
    "chrome_options.add_argument('--disable-extensions')\n",
    "chrome_options.add_argument('--profile-directory=Default')\n",
    "chrome_options.add_argument(\"--incognito\")\n",
    "chrome_options.add_argument(\"--disable-plugins-discovery\");\n",
    "chrome_options.add_argument(\"--start-maximized\")\n",
    "driver = webdriver.Chrome(\".././chromedriver\",chrome_options=chrome_options)\n",
    "\n",
    "category = str(input(\"Enter category: \"))\n",
    "keyword = str(input(\"Enter keyword: \"))\n",
    "color = str(input(\"Enter color: \"))\n",
    "size = str(input(\"Enter size: \"))\n",
    "\n",
    "driver.get(\"https://www.supremenewyork.com/shop/all/\"+str(category))\n",
    "elems = driver.find_elements_by_class_name(\"inner-article\")\n",
    "\n",
    "for elem in elems:\n",
    "    product_name = elem.find_element_by_class_name(\"product-name\")\n",
    "    product_name_link_text = product_name.find_element_by_class_name(\"name-link\").text.lower()\n",
    "    if keyword.lower() in product_name_link_text:\n",
    "        product_style = elem.find_element_by_class_name(\"product-style\")\n",
    "        product_style_link_text = product_style.find_element_by_class_name(\"name-link\").text.lower()\n",
    "        if color.lower() in product_style_link_text:\n",
    "            driver.get(product_style.find_element_by_class_name(\"name-link\").get_attribute(\"href\"))\n",
    "            break\n",
    "\n",
    "            \n",
    "sizing = Select(driver.find_element_by_xpath('//*[@id=\"s\"]'))\n",
    "sizing.select_by_visible_text(size.title())\n",
    "            \n",
    "driver.find_element_by_xpath('//*[@id=\"add-remove-buttons\"]/input').click()\n",
    "driver.implicitly_wait(0.5)\n",
    "driver.find_element_by_xpath('//*[@id=\"cart\"]/a[2]').click()\n",
    "\n",
    "name = driver.find_element_by_xpath('//*[@id=\"order_billing_name\"]')\n",
    "name.click()\n",
    "name.clear()\n",
    "name.send_keys(\"hi bye\")\n",
    "\n",
    "email = driver.find_element_by_xpath('//*[@id=\"order_email\"]')\n",
    "email.click()\n",
    "email.clear()\n",
    "email.send_keys(\"gggg@gmail.com\")\n",
    "\n",
    "tel = driver.find_element_by_xpath('//*[@id=\"order_tel\"]')\n",
    "tel.click()\n",
    "tel.clear()\n",
    "tel.send_keys(\"1231231234\")\n",
    "\n",
    "address = driver.find_element_by_xpath('//*[@id=\"bo\"]')\n",
    "address.click()\n",
    "address.clear()\n",
    "address.send_keys(\"123 maple st\")\n",
    "\n",
    "apt = driver.find_element_by_xpath('//*[@id=\"oba3\"]')\n",
    "apt.click()\n",
    "apt.clear()\n",
    "apt.send_keys(\"123\")\n",
    "\n",
    "zipcode = driver.find_element_by_xpath('//*[@id=\"order_billing_zip\"]')\n",
    "zipcode.click()\n",
    "zipcode.clear()\n",
    "zipcode.send_keys(\"98264\")\n",
    "\n",
    "card = driver.find_element_by_xpath('//*[@id=\"rnsnckrn\"]')\n",
    "card.click()\n",
    "card.clear()\n",
    "card.send_keys(\"1234123412341234\")\n",
    "\n",
    "expmonth = driver.find_element_by_xpath('//*[@id=\"credit_card_month\"]/option[6]')\n",
    "expmonth.click()\n",
    "\n",
    "expmonth = driver.find_element_by_xpath('//*[@id=\"credit_card_year\"]/option[5]')\n",
    "expmonth.click()\n",
    "\n",
    "expmonth = driver.find_element_by_xpath('//*[@id=\"orcer\"]')\n",
    "expmonth.click()\n",
    "expmonth.send_keys(\"123\")\n",
    "\n",
    "driver.find_element_by_xpath('//*[@id=\"cart-cc\"]/fieldset/p[2]/label/div/ins').click()\n",
    "\n",
    "print(time.time()-start_time)\n",
    "\n",
    "payment = driver.find_element_by_xpath('//*[@id=\"pay\"]/input').send_keys(Keys.RETURN)\n",
    "\n",
    "driver.send_keys(Keys.RETURN)"
   ]
  },
  {
   "cell_type": "code",
   "execution_count": 14,
   "metadata": {},
   "outputs": [],
   "source": [
    "size = driver.find_element_by_id(\"s\")"
   ]
  },
  {
   "cell_type": "code",
   "execution_count": 18,
   "metadata": {},
   "outputs": [],
   "source": [
    "size_options = size.find_elements_by_tag_name(\"option\")"
   ]
  },
  {
   "cell_type": "code",
   "execution_count": 22,
   "metadata": {},
   "outputs": [
    {
     "name": "stdout",
     "output_type": "stream",
     "text": [
      "Medium\n",
      "Large\n"
     ]
    }
   ],
   "source": [
    "for sizes in size_options:\n",
    "    print(sizes.text)"
   ]
  },
  {
   "cell_type": "code",
   "execution_count": 21,
   "metadata": {},
   "outputs": [
    {
     "data": {
      "text/plain": [
       "['__class__',\n",
       " '__delattr__',\n",
       " '__dict__',\n",
       " '__dir__',\n",
       " '__doc__',\n",
       " '__eq__',\n",
       " '__format__',\n",
       " '__ge__',\n",
       " '__getattribute__',\n",
       " '__gt__',\n",
       " '__hash__',\n",
       " '__init__',\n",
       " '__init_subclass__',\n",
       " '__le__',\n",
       " '__lt__',\n",
       " '__module__',\n",
       " '__ne__',\n",
       " '__new__',\n",
       " '__reduce__',\n",
       " '__reduce_ex__',\n",
       " '__repr__',\n",
       " '__setattr__',\n",
       " '__sizeof__',\n",
       " '__str__',\n",
       " '__subclasshook__',\n",
       " '__weakref__',\n",
       " '_execute',\n",
       " '_id',\n",
       " '_parent',\n",
       " '_upload',\n",
       " '_w3c',\n",
       " 'clear',\n",
       " 'click',\n",
       " 'find_element',\n",
       " 'find_element_by_class_name',\n",
       " 'find_element_by_css_selector',\n",
       " 'find_element_by_id',\n",
       " 'find_element_by_link_text',\n",
       " 'find_element_by_name',\n",
       " 'find_element_by_partial_link_text',\n",
       " 'find_element_by_tag_name',\n",
       " 'find_element_by_xpath',\n",
       " 'find_elements',\n",
       " 'find_elements_by_class_name',\n",
       " 'find_elements_by_css_selector',\n",
       " 'find_elements_by_id',\n",
       " 'find_elements_by_link_text',\n",
       " 'find_elements_by_name',\n",
       " 'find_elements_by_partial_link_text',\n",
       " 'find_elements_by_tag_name',\n",
       " 'find_elements_by_xpath',\n",
       " 'get_attribute',\n",
       " 'get_property',\n",
       " 'id',\n",
       " 'is_displayed',\n",
       " 'is_enabled',\n",
       " 'is_selected',\n",
       " 'location',\n",
       " 'location_once_scrolled_into_view',\n",
       " 'parent',\n",
       " 'rect',\n",
       " 'screenshot',\n",
       " 'screenshot_as_base64',\n",
       " 'screenshot_as_png',\n",
       " 'send_keys',\n",
       " 'size',\n",
       " 'submit',\n",
       " 'tag_name',\n",
       " 'text',\n",
       " 'value_of_css_property']"
      ]
     },
     "execution_count": 21,
     "metadata": {},
     "output_type": "execute_result"
    }
   ],
   "source": [
    "dir(sizes)"
   ]
  }
 ],
 "metadata": {
  "kernelspec": {
   "display_name": "Python 3",
   "language": "python",
   "name": "python3"
  }
 },
 "nbformat": 4,
 "nbformat_minor": 4
}
